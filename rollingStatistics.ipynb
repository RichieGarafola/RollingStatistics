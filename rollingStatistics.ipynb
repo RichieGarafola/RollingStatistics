{
 "cells": [
  {
   "cell_type": "code",
   "execution_count": 1,
   "id": "6eaf1827-fe68-49cc-87fa-057d931f4221",
   "metadata": {},
   "outputs": [],
   "source": [
    "# Import required libraries\n",
    "\n",
    "%matplotlib inline\n",
    "import matplotlib.pyplot as plt\n",
    "import pandas as pd\n",
    "import yfinance as yf"
   ]
  },
  {
   "cell_type": "code",
   "execution_count": 2,
   "id": "5c038e14-9daa-4a3f-a79b-455da6beee33",
   "metadata": {},
   "outputs": [
    {
     "name": "stdin",
     "output_type": "stream",
     "text": [
      "Enter ticker of your choice nflx\n"
     ]
    },
    {
     "name": "stdout",
     "output_type": "stream",
     "text": [
      "[*********************100%***********************]  1 of 1 completed\n"
     ]
    },
    {
     "data": {
      "text/html": [
       "<div>\n",
       "<style scoped>\n",
       "    .dataframe tbody tr th:only-of-type {\n",
       "        vertical-align: middle;\n",
       "    }\n",
       "\n",
       "    .dataframe tbody tr th {\n",
       "        vertical-align: top;\n",
       "    }\n",
       "\n",
       "    .dataframe thead th {\n",
       "        text-align: right;\n",
       "    }\n",
       "</style>\n",
       "<table border=\"1\" class=\"dataframe\">\n",
       "  <thead>\n",
       "    <tr style=\"text-align: right;\">\n",
       "      <th></th>\n",
       "      <th>Open</th>\n",
       "      <th>High</th>\n",
       "      <th>Low</th>\n",
       "      <th>Close</th>\n",
       "      <th>Adj Close</th>\n",
       "      <th>Volume</th>\n",
       "    </tr>\n",
       "    <tr>\n",
       "      <th>Date</th>\n",
       "      <th></th>\n",
       "      <th></th>\n",
       "      <th></th>\n",
       "      <th></th>\n",
       "      <th></th>\n",
       "      <th></th>\n",
       "    </tr>\n",
       "  </thead>\n",
       "  <tbody>\n",
       "    <tr>\n",
       "      <th>2020-01-02</th>\n",
       "      <td>326.100006</td>\n",
       "      <td>329.980011</td>\n",
       "      <td>324.779999</td>\n",
       "      <td>329.809998</td>\n",
       "      <td>329.809998</td>\n",
       "      <td>4485800</td>\n",
       "    </tr>\n",
       "    <tr>\n",
       "      <th>2020-01-03</th>\n",
       "      <td>326.779999</td>\n",
       "      <td>329.859985</td>\n",
       "      <td>325.529999</td>\n",
       "      <td>325.899994</td>\n",
       "      <td>325.899994</td>\n",
       "      <td>3806900</td>\n",
       "    </tr>\n",
       "    <tr>\n",
       "      <th>2020-01-06</th>\n",
       "      <td>323.119995</td>\n",
       "      <td>336.359985</td>\n",
       "      <td>321.200012</td>\n",
       "      <td>335.829987</td>\n",
       "      <td>335.829987</td>\n",
       "      <td>5663100</td>\n",
       "    </tr>\n",
       "    <tr>\n",
       "      <th>2020-01-07</th>\n",
       "      <td>336.470001</td>\n",
       "      <td>336.700012</td>\n",
       "      <td>330.299988</td>\n",
       "      <td>330.750000</td>\n",
       "      <td>330.750000</td>\n",
       "      <td>4703200</td>\n",
       "    </tr>\n",
       "    <tr>\n",
       "      <th>2020-01-08</th>\n",
       "      <td>331.489990</td>\n",
       "      <td>342.700012</td>\n",
       "      <td>331.049988</td>\n",
       "      <td>339.260010</td>\n",
       "      <td>339.260010</td>\n",
       "      <td>7104500</td>\n",
       "    </tr>\n",
       "    <tr>\n",
       "      <th>...</th>\n",
       "      <td>...</td>\n",
       "      <td>...</td>\n",
       "      <td>...</td>\n",
       "      <td>...</td>\n",
       "      <td>...</td>\n",
       "      <td>...</td>\n",
       "    </tr>\n",
       "    <tr>\n",
       "      <th>2022-12-05</th>\n",
       "      <td>316.459991</td>\n",
       "      <td>322.769989</td>\n",
       "      <td>310.920013</td>\n",
       "      <td>312.589996</td>\n",
       "      <td>312.589996</td>\n",
       "      <td>8423000</td>\n",
       "    </tr>\n",
       "    <tr>\n",
       "      <th>2022-12-06</th>\n",
       "      <td>311.000000</td>\n",
       "      <td>313.220001</td>\n",
       "      <td>303.130005</td>\n",
       "      <td>305.559998</td>\n",
       "      <td>305.559998</td>\n",
       "      <td>7195400</td>\n",
       "    </tr>\n",
       "    <tr>\n",
       "      <th>2022-12-07</th>\n",
       "      <td>306.500000</td>\n",
       "      <td>309.609985</td>\n",
       "      <td>302.100006</td>\n",
       "      <td>308.420013</td>\n",
       "      <td>308.420013</td>\n",
       "      <td>7821600</td>\n",
       "    </tr>\n",
       "    <tr>\n",
       "      <th>2022-12-08</th>\n",
       "      <td>309.109985</td>\n",
       "      <td>312.380005</td>\n",
       "      <td>304.809998</td>\n",
       "      <td>310.260010</td>\n",
       "      <td>310.260010</td>\n",
       "      <td>7198500</td>\n",
       "    </tr>\n",
       "    <tr>\n",
       "      <th>2022-12-09</th>\n",
       "      <td>321.450012</td>\n",
       "      <td>329.000000</td>\n",
       "      <td>319.519989</td>\n",
       "      <td>324.890015</td>\n",
       "      <td>324.890015</td>\n",
       "      <td>10603488</td>\n",
       "    </tr>\n",
       "  </tbody>\n",
       "</table>\n",
       "<p>742 rows × 6 columns</p>\n",
       "</div>"
      ],
      "text/plain": [
       "                  Open        High         Low       Close   Adj Close  \\\n",
       "Date                                                                     \n",
       "2020-01-02  326.100006  329.980011  324.779999  329.809998  329.809998   \n",
       "2020-01-03  326.779999  329.859985  325.529999  325.899994  325.899994   \n",
       "2020-01-06  323.119995  336.359985  321.200012  335.829987  335.829987   \n",
       "2020-01-07  336.470001  336.700012  330.299988  330.750000  330.750000   \n",
       "2020-01-08  331.489990  342.700012  331.049988  339.260010  339.260010   \n",
       "...                ...         ...         ...         ...         ...   \n",
       "2022-12-05  316.459991  322.769989  310.920013  312.589996  312.589996   \n",
       "2022-12-06  311.000000  313.220001  303.130005  305.559998  305.559998   \n",
       "2022-12-07  306.500000  309.609985  302.100006  308.420013  308.420013   \n",
       "2022-12-08  309.109985  312.380005  304.809998  310.260010  310.260010   \n",
       "2022-12-09  321.450012  329.000000  319.519989  324.890015  324.890015   \n",
       "\n",
       "              Volume  \n",
       "Date                  \n",
       "2020-01-02   4485800  \n",
       "2020-01-03   3806900  \n",
       "2020-01-06   5663100  \n",
       "2020-01-07   4703200  \n",
       "2020-01-08   7104500  \n",
       "...              ...  \n",
       "2022-12-05   8423000  \n",
       "2022-12-06   7195400  \n",
       "2022-12-07   7821600  \n",
       "2022-12-08   7198500  \n",
       "2022-12-09  10603488  \n",
       "\n",
       "[742 rows x 6 columns]"
      ]
     },
     "execution_count": 2,
     "metadata": {},
     "output_type": "execute_result"
    }
   ],
   "source": [
    "# Get data from the yahoo finance API\n",
    "\n",
    "# read in the data using the yahoo finance API\n",
    "name = (input(\"Enter ticker of your choice\"))\n",
    "data = yf.download(name, start=\"2020-01-01\", end=\"2023-01-01\")\n",
    "data"
   ]
  },
  {
   "cell_type": "code",
   "execution_count": null,
   "id": "035d9ed9-ac88-4ff3-ba0d-940cc6cb2283",
   "metadata": {},
   "outputs": [],
   "source": [
    "data.isnull().sum()"
   ]
  },
  {
   "cell_type": "code",
   "execution_count": null,
   "id": "70ad22ee-70da-43bb-9918-76be1ce528da",
   "metadata": {},
   "outputs": [],
   "source": [
    "data.info()"
   ]
  },
  {
   "cell_type": "code",
   "execution_count": null,
   "id": "f4c61030-6c15-4678-bdbe-051e82a20500",
   "metadata": {},
   "outputs": [],
   "source": [
    "# The z-score is the number of standard deviations a value is away from it’s mean. \n",
    "# It’s a great way to summarize where a value lies on a distribution.\n",
    "\n",
    "# The math is simple:\n",
    "# (value – average value) / standard deviation of values\n",
    "\n",
    "def z_score(chunk):\n",
    "    \"\"\"\n",
    "    This function accepts a chunk of data. \n",
    "    Then it takes the last value from the chunk, \n",
    "    subtracts the mean (average), and divides by \n",
    "    the standard deviation.\n",
    "    The [-1] means \"take the last value from the chunk\"\n",
    "    \"\"\"\n",
    "    return (chunk[-1] - chunk.mean()) / chunk.std()\n"
   ]
  },
  {
   "cell_type": "code",
   "execution_count": null,
   "id": "a3897b27-494a-4f8b-8600-a7449e0d3cc3",
   "metadata": {},
   "outputs": [],
   "source": [
    "# Create the rolling z-score using the closing price and apply the rolling function to it. \n",
    "# The job of rolling is to take 30 rows of data and apply the z_score function to those rows. \n",
    "# Then move forward one row, and do it again.\n",
    "rolled = data[\"Close\"].rolling(window=30).apply(z_score)"
   ]
  },
  {
   "cell_type": "code",
   "execution_count": null,
   "id": "af520f59-3bb9-4e12-a7b4-9d57ae0180d9",
   "metadata": {},
   "outputs": [],
   "source": [
    "# plot the z-score over time\n",
    "rolled.plot(title=f'{name}Z-score overtime');\n",
    "\n",
    "# Save the figure.\n",
    "plt.savefig(f\"./Images/{name}ZScorePlot.jpg\")"
   ]
  },
  {
   "cell_type": "code",
   "execution_count": null,
   "id": "038ec75e-cc04-4d86-9fc0-dadf9171a994",
   "metadata": {},
   "outputs": [],
   "source": [
    "# plot a histogram\n",
    "rolled.hist( bins=20);\n",
    "\n",
    "# Save the figure.\n",
    "plt.savefig(f\"./Images/{name}ZScoreHistogram.jpg\")"
   ]
  },
  {
   "cell_type": "markdown",
   "id": "cc4c8ca8-d061-40cd-af42-5c61f00d296a",
   "metadata": {},
   "source": [
    "You can see a large negative z-score of -4.4. This is a -4.4 standard deviation move in the stock price! It corresponds to the -35% drop in NFLX on 20 April 2022"
   ]
  },
  {
   "cell_type": "code",
   "execution_count": null,
   "id": "6f9332a0-bf96-4c5e-a489-73c81a2fd47c",
   "metadata": {},
   "outputs": [],
   "source": [
    "# Rolling minimum return over a rolling 30-day period.\n",
    "# calculate the daily percentage change on the closing price\n",
    "# apply the min function to the rolling window of data.\n",
    "\n",
    "min_pct_change = (\n",
    "    data\n",
    "    .Close\n",
    "    .pct_change()\n",
    "    .rolling(window=30)\n",
    "    .min()\n",
    ")\n"
   ]
  },
  {
   "cell_type": "code",
   "execution_count": null,
   "id": "678868dd-1f36-4c8d-9f2b-bc181cb97b1d",
   "metadata": {},
   "outputs": [],
   "source": [
    "# plot\n",
    "min_pct_change.plot(title=f'{name} Min Pct Change');\n",
    "\n",
    "# Save the figure\n",
    "plt.savefig(f\"./Images/{name}minPctChange.jpg\")"
   ]
  },
  {
   "cell_type": "code",
   "execution_count": null,
   "id": "fa9000ba-2335-4ecb-b1e4-6ff5db427d56",
   "metadata": {},
   "outputs": [],
   "source": [
    "# histogram\n",
    "min_pct_change.hist(bins=20);\n",
    "\n",
    "# Save the figure.\n",
    "plt.savefig(f\"./Images/{name}minPctChangeHistogram.jpg\")"
   ]
  },
  {
   "cell_type": "markdown",
   "id": "5c540cd4-3938-4d9e-8105-85bfc73e4001",
   "metadata": {},
   "source": [
    "You can see Netflix has had a couple of pretty bad days!"
   ]
  },
  {
   "cell_type": "code",
   "execution_count": null,
   "id": "2b5f5f3b-368b-4ce6-99f9-c030f389f184",
   "metadata": {},
   "outputs": [],
   "source": []
  }
 ],
 "metadata": {
  "kernelspec": {
   "display_name": "Python [conda env:RGNY] *",
   "language": "python",
   "name": "conda-env-RGNY-py"
  },
  "language_info": {
   "codemirror_mode": {
    "name": "ipython",
    "version": 3
   },
   "file_extension": ".py",
   "mimetype": "text/x-python",
   "name": "python",
   "nbconvert_exporter": "python",
   "pygments_lexer": "ipython3",
   "version": "3.7.11"
  }
 },
 "nbformat": 4,
 "nbformat_minor": 5
}
